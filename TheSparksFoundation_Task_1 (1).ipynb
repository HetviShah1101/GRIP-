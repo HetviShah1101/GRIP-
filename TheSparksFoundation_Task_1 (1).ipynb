{
  "nbformat": 4,
  "nbformat_minor": 0,
  "metadata": {
    "colab": {
      "name": "TheSparksFoundation- Task 1.ipynb",
      "provenance": [],
      "collapsed_sections": []
    },
    "kernelspec": {
      "name": "python3",
      "display_name": "Python 3"
    },
    "language_info": {
      "name": "python"
    }
  },
  "cells": [
    {
      "cell_type": "markdown",
      "metadata": {
        "id": "t_f2tf_2Yu6o"
      },
      "source": [
        "# **The Sparks Foundation** "
      ]
    },
    {
      "cell_type": "markdown",
      "metadata": {
        "id": "KYQfm-7SYvUL"
      },
      "source": [
        "**Author : Hetvi Shah**"
      ]
    },
    {
      "cell_type": "markdown",
      "metadata": {
        "id": "kQwYtKuKklBF"
      },
      "source": [
        "# Task 1 : Prediction using Supervised ML\n",
        "\n",
        "> Predict the percentage of an student based on the no. of study hours.\n",
        "\n"
      ]
    },
    {
      "cell_type": "code",
      "metadata": {
        "id": "ZmVfxV18kkUh"
      },
      "source": [
        "#Importing all the required libraries\n",
        "import numpy as np\n",
        "import pandas as pd\n",
        "import matplotlib.pyplot as plt\n",
        "import seaborn as sns\n",
        "from sklearn.linear_model import LinearRegression\n",
        "from sklearn import metrics  \n",
        "%matplotlib inline"
      ],
      "execution_count": null,
      "outputs": []
    },
    {
      "cell_type": "code",
      "metadata": {
        "colab": {
          "base_uri": "https://localhost:8080/",
          "height": 212
        },
        "id": "Qlp8iP6Fkxbo",
        "outputId": "c74feef1-ec3d-4178-883e-6afd746d8cfb"
      },
      "source": [
        "#Reading the Dataset\n",
        "url = 'http://bit.ly/w-data'\n",
        "data = pd.read_csv(url)\n",
        "print('Data Imported successfully')\n",
        "\n",
        "#Printing the first 5 rows of the dataset\n",
        "data.head(5)"
      ],
      "execution_count": null,
      "outputs": [
        {
          "output_type": "stream",
          "text": [
            "Data Imported successfully\n"
          ],
          "name": "stdout"
        },
        {
          "output_type": "execute_result",
          "data": {
            "text/html": [
              "<div>\n",
              "<style scoped>\n",
              "    .dataframe tbody tr th:only-of-type {\n",
              "        vertical-align: middle;\n",
              "    }\n",
              "\n",
              "    .dataframe tbody tr th {\n",
              "        vertical-align: top;\n",
              "    }\n",
              "\n",
              "    .dataframe thead th {\n",
              "        text-align: right;\n",
              "    }\n",
              "</style>\n",
              "<table border=\"1\" class=\"dataframe\">\n",
              "  <thead>\n",
              "    <tr style=\"text-align: right;\">\n",
              "      <th></th>\n",
              "      <th>Hours</th>\n",
              "      <th>Scores</th>\n",
              "    </tr>\n",
              "  </thead>\n",
              "  <tbody>\n",
              "    <tr>\n",
              "      <th>0</th>\n",
              "      <td>2.5</td>\n",
              "      <td>21</td>\n",
              "    </tr>\n",
              "    <tr>\n",
              "      <th>1</th>\n",
              "      <td>5.1</td>\n",
              "      <td>47</td>\n",
              "    </tr>\n",
              "    <tr>\n",
              "      <th>2</th>\n",
              "      <td>3.2</td>\n",
              "      <td>27</td>\n",
              "    </tr>\n",
              "    <tr>\n",
              "      <th>3</th>\n",
              "      <td>8.5</td>\n",
              "      <td>75</td>\n",
              "    </tr>\n",
              "    <tr>\n",
              "      <th>4</th>\n",
              "      <td>3.5</td>\n",
              "      <td>30</td>\n",
              "    </tr>\n",
              "  </tbody>\n",
              "</table>\n",
              "</div>"
            ],
            "text/plain": [
              "   Hours  Scores\n",
              "0    2.5      21\n",
              "1    5.1      47\n",
              "2    3.2      27\n",
              "3    8.5      75\n",
              "4    3.5      30"
            ]
          },
          "metadata": {
            "tags": []
          },
          "execution_count": 31
        }
      ]
    },
    {
      "cell_type": "code",
      "metadata": {
        "colab": {
          "base_uri": "https://localhost:8080/",
          "height": 295
        },
        "id": "Xkfac5sLlfaE",
        "outputId": "81abda04-5492-48a1-e847-289c89a42900"
      },
      "source": [
        "X_axis= data['Hours']\n",
        "Y_axis = data['Scores']\n",
        "\n",
        "#Visualizing our dataset\n",
        "P1, = plt.plot(X_axis, Y_axis, marker = 'o',ls=\"\",color='r')\n",
        "plt.title('Hours VS Percentage')\n",
        "plt.xlabel('No. of study hours')\n",
        "plt.ylabel('Percentage Score')\n",
        "plt.legend([P1],['Scores'])\n",
        "plt.show()"
      ],
      "execution_count": null,
      "outputs": [
        {
          "output_type": "display_data",
          "data": {
            "image/png": "[encoded data removed]",
            "text/plain": [
              "<Figure size 432x288 with 1 Axes>"
            ]
          },
          "metadata": {
            "tags": [],
            "needs_background": "light"
          }
        }
      ]
    },
    {
      "cell_type": "markdown",
      "metadata": {
        "id": "dRj6sryNZqcC"
      },
      "source": [
        "\n",
        "\n",
        "> From the graph above, we can clearly see there is a positive linear regression between the number of hours studied and percentage of score.\n",
        "\n"
      ]
    },
    {
      "cell_type": "markdown",
      "metadata": {
        "id": "l_CLBM2WaZLo"
      },
      "source": [
        "# Data Preprocessing"
      ]
    },
    {
      "cell_type": "code",
      "metadata": {
        "colab": {
          "base_uri": "https://localhost:8080/"
        },
        "id": "39qkY5phzLhU",
        "outputId": "3144c42c-d09a-4a14-c223-ecdd147a8e46"
      },
      "source": [
        "data.info()"
      ],
      "execution_count": null,
      "outputs": [
        {
          "output_type": "stream",
          "text": [
            "<class 'pandas.core.frame.DataFrame'>\n",
            "RangeIndex: 25 entries, 0 to 24\n",
            "Data columns (total 2 columns):\n",
            " #   Column  Non-Null Count  Dtype  \n",
            "---  ------  --------------  -----  \n",
            " 0   Hours   25 non-null     float64\n",
            " 1   Scores  25 non-null     int64  \n",
            "dtypes: float64(1), int64(1)\n",
            "memory usage: 528.0 bytes\n"
          ],
          "name": "stdout"
        }
      ]
    },
    {
      "cell_type": "markdown",
      "metadata": {
        "id": "d9GssNlHzzGw"
      },
      "source": [
        "We have a total of 25 Rows and 2 columns"
      ]
    },
    {
      "cell_type": "code",
      "metadata": {
        "colab": {
          "base_uri": "https://localhost:8080/"
        },
        "id": "F5UF_ZAnzZgJ",
        "outputId": "bbd0f0df-f65d-4e13-dcd8-1847414861ad"
      },
      "source": [
        "data.isnull().sum()"
      ],
      "execution_count": null,
      "outputs": [
        {
          "output_type": "execute_result",
          "data": {
            "text/plain": [
              "Hours     0\n",
              "Scores    0\n",
              "dtype: int64"
            ]
          },
          "metadata": {
            "tags": []
          },
          "execution_count": 34
        }
      ]
    },
    {
      "cell_type": "markdown",
      "metadata": {
        "id": "jclL5OW3zeQ6"
      },
      "source": [
        "There are no missing values in the dataset"
      ]
    },
    {
      "cell_type": "code",
      "metadata": {
        "id": "TqdgcyMCmGlC"
      },
      "source": [
        "X = np.array(X_axis).reshape(-1,1) #Convert into a numpy array\n",
        "Y = np.array(Y_axis)\n",
        "\n",
        "#Dividing the dataset in training and test data.\n",
        "#The training data consists of 80% of the entire dataset\n",
        "X_train = X[:int(len(X)*0.8)]\n",
        "Y_train = Y[:int(len(Y)*0.8)]\n",
        "X_test = X[int(len(X)*0.8):]\n",
        "Y_test = Y[int(len(Y)*0.8):]"
      ],
      "execution_count": null,
      "outputs": []
    },
    {
      "cell_type": "markdown",
      "metadata": {
        "id": "XiG5k6JTam0O"
      },
      "source": [
        "# Training the model"
      ]
    },
    {
      "cell_type": "code",
      "metadata": {
        "colab": {
          "base_uri": "https://localhost:8080/"
        },
        "id": "ScDDd7ZX0G9r",
        "outputId": "020efac8-06e1-4ab3-f5c2-3142ff380cce"
      },
      "source": [
        "#Fit the linear Regression Model\n",
        "model = LinearRegression().fit(X_train,Y_train)\n",
        "score = model.score(X_train,Y_train)\n",
        "print(\"Model Score :\", score)"
      ],
      "execution_count": null,
      "outputs": [
        {
          "output_type": "stream",
          "text": [
            "Model Score : 0.9554562450839484\n"
          ],
          "name": "stdout"
        }
      ]
    },
    {
      "cell_type": "code",
      "metadata": {
        "colab": {
          "base_uri": "https://localhost:8080/"
        },
        "id": "qeRoU6azZP3v",
        "outputId": "165a6991-9525-44d8-ac96-2c20bc49c978"
      },
      "source": [
        "#Intercept and coefficients\n",
        "Intercept = model.intercept_\n",
        "print(\"Intercept:\", Intercept)\n",
        "Coefficients = model.coef_\n",
        "print(\"Coefficients:\", Coefficients)"
      ],
      "execution_count": null,
      "outputs": [
        {
          "output_type": "stream",
          "text": [
            "Intercept: 3.0312830386057854\n",
            "Coefficients: [9.52038609]\n"
          ],
          "name": "stdout"
        }
      ]
    },
    {
      "cell_type": "code",
      "metadata": {
        "colab": {
          "base_uri": "https://localhost:8080/",
          "height": 265
        },
        "id": "ScePl0G618Yv",
        "outputId": "6c514ea0-deee-4037-a231-38a962a86479"
      },
      "source": [
        "#Visualizing the regression line on the train data\n",
        "reg_line = Intercept + np.sum(Coefficients* X_train,axis =1)\n",
        "plt.plot(X_train,Y_train,marker= 'o', ls= \"\")\n",
        "plt.plot(X_train, reg_line, marker='', ls= \"-\")\n",
        "plt.show()"
      ],
      "execution_count": null,
      "outputs": [
        {
          "output_type": "display_data",
          "data": {
            "image/png": "[encoded data removed]",
            "text/plain": [
              "<Figure size 432x288 with 1 Axes>"
            ]
          },
          "metadata": {
            "tags": [],
            "needs_background": "light"
          }
        }
      ]
    },
    {
      "cell_type": "markdown",
      "metadata": {
        "id": "hciXC0BTa7oT"
      },
      "source": [
        "# Model testing"
      ]
    },
    {
      "cell_type": "code",
      "metadata": {
        "colab": {
          "base_uri": "https://localhost:8080/",
          "height": 265
        },
        "id": "n92t_0cUaMTx",
        "outputId": "9a0ca661-1474-46e2-ab6d-163e44f5b535"
      },
      "source": [
        "#Visualizing the test data\n",
        "\n",
        "#Actual Values VS Predicted Values\n",
        "Predicted_values = model.predict(X_test)\n",
        "Actual_values = Y_test\n",
        "plt.plot(X_test, Y_test,marker = 'o', ls=\"\")\n",
        "plt.plot(X_test, Predicted_values, color='k',marker='o',ls='-')\n",
        "plt.show()"
      ],
      "execution_count": null,
      "outputs": [
        {
          "output_type": "display_data",
          "data": {
            "image/png": "[encoded data removed]",
            "text/plain": [
              "<Figure size 432x288 with 1 Axes>"
            ]
          },
          "metadata": {
            "tags": [],
            "needs_background": "light"
          }
        }
      ]
    },
    {
      "cell_type": "code",
      "metadata": {
        "colab": {
          "base_uri": "https://localhost:8080/",
          "height": 195
        },
        "id": "sUUyuyHu3RQE",
        "outputId": "f2e197b2-a93e-4aa9-d191-0fc65d0174da"
      },
      "source": [
        "#Building a DataFrame for comparing the predicted values\n",
        "\n",
        "new_df = pd.DataFrame(data = data[int(len(data)*0.8):])\n",
        "new_df['Predicted Scores'] = Predicted_values\n",
        "new_df.replace('Scores','Actual_values')\n",
        "new_df"
      ],
      "execution_count": null,
      "outputs": [
        {
          "output_type": "execute_result",
          "data": {
            "text/html": [
              "<div>\n",
              "<style scoped>\n",
              "    .dataframe tbody tr th:only-of-type {\n",
              "        vertical-align: middle;\n",
              "    }\n",
              "\n",
              "    .dataframe tbody tr th {\n",
              "        vertical-align: top;\n",
              "    }\n",
              "\n",
              "    .dataframe thead th {\n",
              "        text-align: right;\n",
              "    }\n",
              "</style>\n",
              "<table border=\"1\" class=\"dataframe\">\n",
              "  <thead>\n",
              "    <tr style=\"text-align: right;\">\n",
              "      <th></th>\n",
              "      <th>Hours</th>\n",
              "      <th>Scores</th>\n",
              "      <th>Predicted Scores</th>\n",
              "    </tr>\n",
              "  </thead>\n",
              "  <tbody>\n",
              "    <tr>\n",
              "      <th>20</th>\n",
              "      <td>2.7</td>\n",
              "      <td>30</td>\n",
              "      <td>28.736325</td>\n",
              "    </tr>\n",
              "    <tr>\n",
              "      <th>21</th>\n",
              "      <td>4.8</td>\n",
              "      <td>54</td>\n",
              "      <td>48.729136</td>\n",
              "    </tr>\n",
              "    <tr>\n",
              "      <th>22</th>\n",
              "      <td>3.8</td>\n",
              "      <td>35</td>\n",
              "      <td>39.208750</td>\n",
              "    </tr>\n",
              "    <tr>\n",
              "      <th>23</th>\n",
              "      <td>6.9</td>\n",
              "      <td>76</td>\n",
              "      <td>68.721947</td>\n",
              "    </tr>\n",
              "    <tr>\n",
              "      <th>24</th>\n",
              "      <td>7.8</td>\n",
              "      <td>86</td>\n",
              "      <td>77.290295</td>\n",
              "    </tr>\n",
              "  </tbody>\n",
              "</table>\n",
              "</div>"
            ],
            "text/plain": [
              "    Hours  Scores  Predicted Scores\n",
              "20    2.7      30         28.736325\n",
              "21    4.8      54         48.729136\n",
              "22    3.8      35         39.208750\n",
              "23    6.9      76         68.721947\n",
              "24    7.8      86         77.290295"
            ]
          },
          "metadata": {
            "tags": []
          },
          "execution_count": 40
        }
      ]
    },
    {
      "cell_type": "markdown",
      "metadata": {
        "id": "IYYEpsiWbQDb"
      },
      "source": [
        "# Metrics"
      ]
    },
    {
      "cell_type": "code",
      "metadata": {
        "colab": {
          "base_uri": "https://localhost:8080/"
        },
        "id": "Qhx4Gw585kIf",
        "outputId": "dcca6101-814d-444a-c93e-0276efea398d"
      },
      "source": [
        "#Metrics\n",
        "print('Mean Absolute Error:', metrics.mean_absolute_error(Y_test, Predicted_values)) \n",
        "print('Root Mean Squared Error:', np.sqrt((np.sum(np.square(Y_test - Predicted_values)))/len(Y_test)))\n"
      ],
      "execution_count": null,
      "outputs": [
        {
          "output_type": "stream",
          "text": [
            "Mean Absolute Error: 5.346209347444651\n",
            "Root Mean Squared Error: 5.931635159442733\n"
          ],
          "name": "stdout"
        }
      ]
    },
    {
      "cell_type": "markdown",
      "metadata": {
        "id": "0mmJKzQtboZV"
      },
      "source": [
        "# Model Prediction"
      ]
    },
    {
      "cell_type": "code",
      "metadata": {
        "colab": {
          "base_uri": "https://localhost:8080/"
        },
        "id": "X4V2fSzgacl1",
        "outputId": "d6c8aa94-aaf0-481f-ab0f-b4f82948456b"
      },
      "source": [
        "predict = model.predict([[9.25]])\n",
        "print(\"Predicted score if a student studies for 9.25 hrs/day will be\", *predict)"
      ],
      "execution_count": null,
      "outputs": [
        {
          "output_type": "stream",
          "text": [
            "Predicted score if a student studies for 9.25 hrs/day will be 91.09485441683265\n"
          ],
          "name": "stdout"
        }
      ]
    },
    {
      "cell_type": "code",
      "metadata": {
        "id": "w7O9Z-bGb_0N"
      },
      "source": [
        ""
      ],
      "execution_count": null,
      "outputs": []
    }
  ]
}